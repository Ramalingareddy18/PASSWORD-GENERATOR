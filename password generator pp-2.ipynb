{
 "cells": [
  {
   "cell_type": "code",
   "execution_count": 2,
   "id": "23ef71ee",
   "metadata": {},
   "outputs": [
    {
     "name": "stdout",
     "output_type": "stream",
     "text": [
      "Welcome to Password Generator!\n",
      "['q', 'O', 'K', 'c', 'R', '$', '(', '+', '3', '9', '2', '3']\n",
      "2c(3O9$3+RKq\n"
     ]
    }
   ],
   "source": [
    "import random\n",
    "\n",
    "letters = ['a', 'b', 'c', 'd', 'e', 'f', 'g', 'h', 'i', 'j', 'k', 'l', 'm', 'n', 'o', 'p', 'q', 'r', 's', 't', 'u', 'v', 'w', 'x', 'y', 'z', \n",
    "           'A', 'B', 'C', 'D', 'E', 'F', 'G', 'H', 'I', 'J', 'K', 'L', 'M', 'N', 'O', 'P', 'Q', 'R', 'S', 'T', 'U', 'V', 'W', 'X', 'Y', 'Z']\n",
    "\n",
    "numbers = ['0', '1', '2', '3', '4', '5', '6', '7', '8', '9']\n",
    "\n",
    "symbols = ['!', '#', '$', '%', '&', '(', ')', '*', '+']\n",
    "\n",
    "print(\"Welcome to Password Generator!\")\n",
    "\n",
    "n_letters = int(input(\"How many letters you want in your password?\\n\"))  #4\n",
    "n_symbols = int(input(\"How many symbols you want in your password?\\n\"))  #2\n",
    "n_numbers = int(input(\"How many numbers you want in your password?\\n\"))  #2\n",
    "\n",
    "password_list = []\n",
    "\n",
    "for i in range(1, n_letters + 1):  # i = 1,2,3,4\n",
    "    char = random.choice(letters)\n",
    "    password_list += char\n",
    "\n",
    "for i in range(1, n_symbols + 1):\n",
    "    char = random.choice(symbols)\n",
    "    password_list += char\n",
    "\n",
    "for i in range(1, n_numbers + 1):\n",
    "    char = random.choice(numbers)\n",
    "    password_list += char\n",
    "\n",
    "print(password_list)\n",
    "random.shuffle(password_list)\n",
    "password = \"\"\n",
    "for char in password_list:\n",
    "    password += char\n",
    "print(password)\n"
   ]
  }
 ],
 "metadata": {
  "kernelspec": {
   "display_name": "Python 3",
   "language": "python",
   "name": "python3"
  },
  "language_info": {
   "codemirror_mode": {
    "name": "ipython",
    "version": 3
   },
   "file_extension": ".py",
   "mimetype": "text/x-python",
   "name": "python",
   "nbconvert_exporter": "python",
   "pygments_lexer": "ipython3",
   "version": "3.13.7"
  }
 },
 "nbformat": 4,
 "nbformat_minor": 5
}
